{
 "cells": [
  {
   "cell_type": "code",
   "execution_count": 1,
   "metadata": {},
   "outputs": [
    {
     "name": "stdout",
     "output_type": "stream",
     "text": [
      "Requirement already satisfied: opencv-python in /Users/houssinchikry/1SecondBrain/2_Areas/Programming_Projects/AUIMechatronicsCV/.venv/lib/python3.12/site-packages (4.10.0.84)\n",
      "Requirement already satisfied: numpy>=1.21.2 in /Users/houssinchikry/1SecondBrain/2_Areas/Programming_Projects/AUIMechatronicsCV/.venv/lib/python3.12/site-packages (from opencv-python) (1.26.4)\n"
     ]
    }
   ],
   "source": [
    "# Installing Mediapipe and OpenCV Libraries\n",
    "!pip3 install -q mediapipe\n",
    "!pip3 install opencv-python"
   ]
  },
  {
   "cell_type": "code",
   "execution_count": 2,
   "metadata": {},
   "outputs": [],
   "source": [
    "# downloading the Hand Landmarker model\n",
    "!wget -q https://storage.googleapis.com/mediapipe-models/hand_landmarker/hand_landmarker/float16/1/hand_landmarker.task"
   ]
  },
  {
   "cell_type": "code",
   "execution_count": 3,
   "metadata": {},
   "outputs": [],
   "source": [
    "# Used for handling video input and displaying frames.\n",
    "import cv2\n",
    "\n",
    "# Provides the pre-trained hand detection and tracking model\n",
    "import mediapipe as mp\n",
    "\n",
    "# Offers tools for hand landmark detection and tracking\n",
    "mp_hands = mp.solutions.hands\n",
    "\n",
    "# Used for drawing landmarks and connections on detected hands.\n",
    "mp_drawing = mp.solutions.drawing_utils\n",
    "\n",
    "# Contains predefined styles for hand landmarks and connections.\n",
    "# i.e how landmarks will look\n",
    "mp_drawing_styles = mp.solutions.drawing_styles"
   ]
  },
  {
   "cell_type": "code",
   "execution_count": null,
   "metadata": {},
   "outputs": [
    {
     "name": "stderr",
     "output_type": "stream",
     "text": [
      "2024-11-22 14:19:44.229 Python[20476:41135069] WARNING: AVCaptureDeviceTypeExternal is deprecated for Continuity Cameras. Please use AVCaptureDeviceTypeContinuityCamera and add NSCameraUseContinuityCameraDeviceType to your Info.plist.\n",
      "WARNING: All log messages before absl::InitializeLog() is called are written to STDERR\n",
      "I0000 00:00:1732281585.720893 41135069 gl_context.cc:357] GL version: 2.1 (2.1 Metal - 88.1), renderer: Apple M1 Pro\n",
      "INFO: Created TensorFlow Lite XNNPACK delegate for CPU.\n",
      "W0000 00:00:1732281585.743133 41170116 inference_feedback_manager.cc:114] Feedback manager requires a model with a single signature inference. Disabling support for feedback tensors.\n",
      "W0000 00:00:1732281585.752944 41170116 inference_feedback_manager.cc:114] Feedback manager requires a model with a single signature inference. Disabling support for feedback tensors.\n",
      "W0000 00:00:1732281586.390521 41170114 landmark_projection_calculator.cc:186] Using NORM_RECT without IMAGE_DIMENSIONS is only supported for the square ROI. Provide IMAGE_DIMENSIONS or use PROJECTION_MATRIX.\n"
     ]
    }
   ],
   "source": [
    "# Initialize a Webcam object that will be used to opens the webcam\n",
    "# index 0 refers to the default webcam\n",
    "cap = cv2.VideoCapture(0)\n",
    "\n",
    "# initialize the hand tracking object, and it will be gone at the end of with\n",
    "# statement\n",
    "with mp_hands.Hands(\n",
    "    model_complexity=0,\n",
    "    min_detection_confidence=0.5,\n",
    "    min_tracking_confidence=0.5) as hands:\n",
    "  \n",
    "  # Frame processing loop\n",
    "  while cap.isOpened():\n",
    "    success, image = cap.read() # Capture a single frame from the webcam\n",
    "    if not success:\n",
    "      print(\"Ignoring empty camera frame.\")\n",
    "      continue\n",
    "\n",
    "    # Preparing the image\n",
    "    \n",
    "    # To improve performance, optionally mark the image as not writeable\n",
    "    image.flags.writeable = False\n",
    "    \n",
    "    # Converts the image from BGR (used by OpenCV) to RGB (expected by \n",
    "    # Mediapipe)\n",
    "    image = cv2.cvtColor(image, cv2.COLOR_BGR2RGB)\n",
    "    \n",
    "    # Processes the image and detects hand landmarks.\n",
    "    results = hands.process(image)\n",
    "\n",
    "\n",
    "    # Draw the hand annotations on the image.\n",
    "    \n",
    "    # undo previous changes\n",
    "    image.flags.writeable = True\n",
    "    image = cv2.cvtColor(image, cv2.COLOR_RGB2BGR)\n",
    "    \n",
    "    # if hand landmarks are detected, draw them in the frame\n",
    "    if results.multi_hand_landmarks:\n",
    "      for hand_landmarks in results.multi_hand_landmarks:\n",
    "        mp_drawing.draw_landmarks(\n",
    "            image,\n",
    "            hand_landmarks,\n",
    "            mp_hands.HAND_CONNECTIONS,\n",
    "            mp_drawing_styles.get_default_hand_landmarks_style(),\n",
    "            mp_drawing_styles.get_default_hand_connections_style())\n",
    "    \n",
    "    # Flip the image horizontally for a selfie-view display, then show it\n",
    "    cv2.imshow('MediaPipe Hands', cv2.flip(image, 1))\n",
    "    \n",
    "    # if ESC key is pressed, close the webcam\n",
    "    if cv2.waitKey(5) & 0xFF == 27:\n",
    "      break\n",
    "\n",
    "# making sure the used resources by Webcam object are released\n",
    "cap.release()"
   ]
  }
 ],
 "metadata": {
  "kernelspec": {
   "display_name": ".venv",
   "language": "python",
   "name": "python3"
  },
  "language_info": {
   "codemirror_mode": {
    "name": "ipython",
    "version": 3
   },
   "file_extension": ".py",
   "mimetype": "text/x-python",
   "name": "python",
   "nbconvert_exporter": "python",
   "pygments_lexer": "ipython3",
   "version": "3.12.6"
  }
 },
 "nbformat": 4,
 "nbformat_minor": 2
}
